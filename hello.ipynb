{
 "cells": [
  {
   "cell_type": "markdown",
   "id": "00608c00",
   "metadata": {},
   "source": [
    "# Hello World\n",
    "## This is Eliott\n",
    "###### ML is fun !"
   ]
  },
  {
   "cell_type": "markdown",
   "id": "78bf0bf1",
   "metadata": {},
   "source": [
    "*you* in italic \n",
    "1. test1\n",
    "1. test2\n",
    "\n",
    "[test](google.com) is an hyperlink\n",
    "\n",
    "## type of list \n",
    "1. test\n",
    "1. test\n",
    "\n",
    "- test\n",
    "- test\n",
    "\n",
    "* test \n",
    "* test\n"
   ]
  }
 ],
 "metadata": {
  "language_info": {
   "name": "python"
  }
 },
 "nbformat": 4,
 "nbformat_minor": 5
}
