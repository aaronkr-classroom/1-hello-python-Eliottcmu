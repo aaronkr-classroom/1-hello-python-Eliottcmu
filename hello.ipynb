{
 "cells": [
  {
   "cell_type": "markdown",
   "id": "00608c00",
   "metadata": {},
   "source": [
    "# Hello World~\n",
    "## This is Eliott\n",
    "\n",
    "###### ML is fun ! ~"
   ]
  }
 ],
 "metadata": {
  "language_info": {
   "name": "python"
  }
 },
 "nbformat": 4,
 "nbformat_minor": 5
}
